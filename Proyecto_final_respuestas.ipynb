{
  "nbformat": 4,
  "nbformat_minor": 0,
  "metadata": {
    "colab": {
      "provenance": [],
      "toc_visible": true,
      "include_colab_link": true
    },
    "kernelspec": {
      "display_name": "Python 3",
      "language": "python",
      "name": "python3"
    },
    "language_info": {
      "codemirror_mode": {
        "name": "ipython",
        "version": 3
      },
      "file_extension": ".py",
      "mimetype": "text/x-python",
      "name": "python",
      "nbconvert_exporter": "python",
      "pygments_lexer": "ipython3",
      "version": "3.6.5"
    }
  },
  "cells": [
    {
      "cell_type": "markdown",
      "metadata": {
        "id": "view-in-github",
        "colab_type": "text"
      },
      "source": [
        "<a href=\"https://colab.research.google.com/github/mespealva/numpy/blob/main/Proyecto_final_respuestas.ipynb\" target=\"_parent\"><img src=\"https://colab.research.google.com/assets/colab-badge.svg\" alt=\"Open In Colab\"/></a>"
      ]
    },
    {
      "cell_type": "markdown",
      "metadata": {
        "id": "WvMflodMjQKe"
      },
      "source": [
        "***\n",
        "# <font color=green size=10>CURSO DE ESTADÍSTICA - PARTE 2</font>\n",
        "***\n",
        "\n",
        "## Trabajo de Probabilidades, Muestreo y Estimación\n",
        "\n",
        "Utilizando los conocimientos adquiridos en nuestra formación, realice las siguientes tareas. Siga el guión propuesto y complete las celdas vacías."
      ]
    },
    {
      "cell_type": "markdown",
      "metadata": {
        "id": "cVgsZ_E3jQKg"
      },
      "source": [
        "# <font color=green>DATASET DEL PROYECTO</font>\n",
        "***"
      ]
    },
    {
      "cell_type": "markdown",
      "metadata": {
        "id": "iN1gIbaKjQKh"
      },
      "source": [
        "### Encuesta Nacional por Muestreo de Hogares - 2015\n",
        "\n",
        "La <b>Encuesta Nacional por Muestreo de Hogares</b> anualmente investiga, de manera permanente, características generales de la población, educación, trabajo, ingresos y vivienda y otras, con frecuencia variable, de acuerdo a las necesidades de información del país, tales como las características de migración, fecundidad, nupcialidad, salud, seguridad alimentaria, entre otros temas. La recopilación de estas estadísticas constituye, durante los 49 años de realización de la investigación, un importante instrumento para la formulación, validación y evaluación de políticas orientadas al desarrollo socioeconómico y la mejora de las condiciones de vida en Brasil."
      ]
    },
    {
      "cell_type": "markdown",
      "metadata": {
        "id": "U6V7br1RjQKi"
      },
      "source": [
        "### Fuente de los Datos\n",
        "\n",
        "Instituto Brasileño de Geografía y Estadística (IBGE) Encuesta Nacional por Muestreo de Hogares(PNAD) en el 2015"
      ]
    },
    {
      "cell_type": "markdown",
      "metadata": {
        "id": "r0Fe_qnzjQKj"
      },
      "source": [
        "### Variables utilizadas\n",
        "\n",
        "> ### Ingreso\n",
        "> ***\n",
        "\n",
        "Ingresos mensuales del trabajo principal para personas de 10 años y más.\n",
        "\n",
        "> ### Edad\n",
        "> ***\n",
        "\n",
        "Edad del residente en la fecha de referencia en años.\n",
        "\n",
        "> ### Altura (elaboración propia)\n",
        "> ***\n",
        "\n",
        "Altura del habitante en metros.\n",
        "\n",
        "> ### UF\n",
        "> ***\n",
        "Unidad Federal\n",
        "\n",
        "\n",
        "|Código|Descripción|\n",
        "|---|---|\n",
        "|11|Rondônia|\n",
        "|12|Acre|\n",
        "|13|Amazonas|\n",
        "|14|Roraima|\n",
        "|15|Pará|\n",
        "|16|Amapá|\n",
        "|17|Tocantins|\n",
        "|21|Maranhão|\n",
        "|22|Piauí|\n",
        "|23|Ceará|\n",
        "|24|Rio Grande do Norte|\n",
        "|25|Paraíba|\n",
        "|26|Pernambuco|\n",
        "|27|Alagoas|\n",
        "|28|Sergipe|\n",
        "|29|Bahia|\n",
        "|31|Minas Gerais|\n",
        "|32|Espírito Santo|\n",
        "|33|Rio de Janeiro|\n",
        "|35|São Paulo|\n",
        "|41|Paraná|\n",
        "|42|Santa Catarina|\n",
        "|43|Rio Grande do Sul|\n",
        "|50|Mato Grosso do Sul|\n",
        "|51|Mato Grosso|\n",
        "|52|Goiás|\n",
        "|53|Distrito Federal|\n",
        "\n",
        "> ### Sexo\n",
        "> ***\n",
        "\n",
        "|Código|Descripción|\n",
        "|---|---|\n",
        "|0|Masculino|\n",
        "|1|Femenino|\n",
        "\n",
        "> ### Años de Estudio\n",
        "> ***\n",
        "\n",
        "|Código|Descripción|\n",
        "|---|---|\n",
        "|1|Sin educación o menos de 1 año|\n",
        "|2|1 año|\n",
        "|3|2 años|\n",
        "|4|3 años|\n",
        "|5|4 años|\n",
        "|6|5 años|\n",
        "|7|6 años|\n",
        "|8|7 años|\n",
        "|9|8 años|\n",
        "|10|9 años|\n",
        "|11|10 años|\n",
        "|12|11 años|\n",
        "|13|12 años|\n",
        "|14|13 años|\n",
        "|15|14 años|\n",
        "|16|15 años o más|\n",
        "|17|No determinado|\n",
        "||No aplicable|\n",
        "\n",
        "> ### Color\n",
        "> ***\n",
        "\n",
        "|Código|Descripción|\n",
        "|---|---|\n",
        "|0|Indígena|\n",
        "|2|Blanco|\n",
        "|4|Negro|\n",
        "|6|Amarillo|\n",
        "|8|Pardo|\n",
        "|9|Sin declaración|"
      ]
    },
    {
      "cell_type": "markdown",
      "metadata": {
        "id": "OK1IQH5cX7Gb"
      },
      "source": [
        "#### <font color='red'>Nota</font>\n",
        "***\n",
        "> Se realizaron los siguientes tratamientos sobre los datos originales:\n",
        "> 1. Se eliminaron los registros en los que **Ingreso** no era válido. (999 999 999 999);\n",
        "> 2. Se eliminaron los registros en los que **Ingreso** eran missing;\n",
        "> 3. Solo se consideraron los registros de **Personas de Referencia** de cada hogar (responsable del hogar)."
      ]
    },
    {
      "cell_type": "markdown",
      "metadata": {
        "id": "ZIqLOffNTg1Y"
      },
      "source": [
        "***\n",
        "***"
      ]
    },
    {
      "cell_type": "markdown",
      "metadata": {
        "id": "8Rw70V6ojQKk"
      },
      "source": [
        "### Use la celda a continuación para importar las bibliotecas que necesita para realizar las tareas\n",
        "#### <font color='red'>Sugerencias: pandas, numpy, scipy etc.</font>"
      ]
    },
    {
      "cell_type": "code",
      "metadata": {
        "id": "fcTgimHBybMz"
      },
      "source": [
        "import pandas as pd\n",
        "import numpy as np\n",
        "from scipy.stats import binom\n",
        "from scipy.stats import norm"
      ],
      "execution_count": 1,
      "outputs": []
    },
    {
      "cell_type": "markdown",
      "metadata": {
        "id": "2a-gvBvCULwt"
      },
      "source": [
        "### Importe el dataset y almacenar el contenido en un DataFrame"
      ]
    },
    {
      "cell_type": "code",
      "metadata": {
        "id": "ufRZ7TLwjQKo"
      },
      "source": [
        "datos = pd.read_csv('/content/datos (1).csv',encoding='latin-1')"
      ],
      "execution_count": 3,
      "outputs": []
    },
    {
      "cell_type": "markdown",
      "metadata": {
        "id": "Oq3CKHCmTg1j"
      },
      "source": [
        "### Ver el contenido del DataFrame"
      ]
    },
    {
      "cell_type": "code",
      "metadata": {
        "colab": {
          "base_uri": "https://localhost:8080/",
          "height": 206
        },
        "id": "GsC_WhLFjQKq",
        "scrolled": true,
        "outputId": "3cb6804a-8f55-4a54-f4bc-e15e66d9c06c"
      },
      "source": [
        "datos.head()"
      ],
      "execution_count": 4,
      "outputs": [
        {
          "output_type": "execute_result",
          "data": {
            "text/plain": [
              "   Ciudad  Sexo  Edad  Color  Años de Estudio  Ingreso    Altura\n",
              "0      11     0    23      8               12      800  1.603808\n",
              "1      11     1    23      2               12     1150  1.739790\n",
              "2      11     1    35      8               15      880  1.760444\n",
              "3      11     0    46      2                6     3500  1.783158\n",
              "4      11     1    47      8                9      150  1.690631"
            ],
            "text/html": [
              "\n",
              "  <div id=\"df-ec7aa51d-6830-40cc-9257-164e09791ebf\" class=\"colab-df-container\">\n",
              "    <div>\n",
              "<style scoped>\n",
              "    .dataframe tbody tr th:only-of-type {\n",
              "        vertical-align: middle;\n",
              "    }\n",
              "\n",
              "    .dataframe tbody tr th {\n",
              "        vertical-align: top;\n",
              "    }\n",
              "\n",
              "    .dataframe thead th {\n",
              "        text-align: right;\n",
              "    }\n",
              "</style>\n",
              "<table border=\"1\" class=\"dataframe\">\n",
              "  <thead>\n",
              "    <tr style=\"text-align: right;\">\n",
              "      <th></th>\n",
              "      <th>Ciudad</th>\n",
              "      <th>Sexo</th>\n",
              "      <th>Edad</th>\n",
              "      <th>Color</th>\n",
              "      <th>Años de Estudio</th>\n",
              "      <th>Ingreso</th>\n",
              "      <th>Altura</th>\n",
              "    </tr>\n",
              "  </thead>\n",
              "  <tbody>\n",
              "    <tr>\n",
              "      <th>0</th>\n",
              "      <td>11</td>\n",
              "      <td>0</td>\n",
              "      <td>23</td>\n",
              "      <td>8</td>\n",
              "      <td>12</td>\n",
              "      <td>800</td>\n",
              "      <td>1.603808</td>\n",
              "    </tr>\n",
              "    <tr>\n",
              "      <th>1</th>\n",
              "      <td>11</td>\n",
              "      <td>1</td>\n",
              "      <td>23</td>\n",
              "      <td>2</td>\n",
              "      <td>12</td>\n",
              "      <td>1150</td>\n",
              "      <td>1.739790</td>\n",
              "    </tr>\n",
              "    <tr>\n",
              "      <th>2</th>\n",
              "      <td>11</td>\n",
              "      <td>1</td>\n",
              "      <td>35</td>\n",
              "      <td>8</td>\n",
              "      <td>15</td>\n",
              "      <td>880</td>\n",
              "      <td>1.760444</td>\n",
              "    </tr>\n",
              "    <tr>\n",
              "      <th>3</th>\n",
              "      <td>11</td>\n",
              "      <td>0</td>\n",
              "      <td>46</td>\n",
              "      <td>2</td>\n",
              "      <td>6</td>\n",
              "      <td>3500</td>\n",
              "      <td>1.783158</td>\n",
              "    </tr>\n",
              "    <tr>\n",
              "      <th>4</th>\n",
              "      <td>11</td>\n",
              "      <td>1</td>\n",
              "      <td>47</td>\n",
              "      <td>8</td>\n",
              "      <td>9</td>\n",
              "      <td>150</td>\n",
              "      <td>1.690631</td>\n",
              "    </tr>\n",
              "  </tbody>\n",
              "</table>\n",
              "</div>\n",
              "    <div class=\"colab-df-buttons\">\n",
              "\n",
              "  <div class=\"colab-df-container\">\n",
              "    <button class=\"colab-df-convert\" onclick=\"convertToInteractive('df-ec7aa51d-6830-40cc-9257-164e09791ebf')\"\n",
              "            title=\"Convert this dataframe to an interactive table.\"\n",
              "            style=\"display:none;\">\n",
              "\n",
              "  <svg xmlns=\"http://www.w3.org/2000/svg\" height=\"24px\" viewBox=\"0 -960 960 960\">\n",
              "    <path d=\"M120-120v-720h720v720H120Zm60-500h600v-160H180v160Zm220 220h160v-160H400v160Zm0 220h160v-160H400v160ZM180-400h160v-160H180v160Zm440 0h160v-160H620v160ZM180-180h160v-160H180v160Zm440 0h160v-160H620v160Z\"/>\n",
              "  </svg>\n",
              "    </button>\n",
              "\n",
              "  <style>\n",
              "    .colab-df-container {\n",
              "      display:flex;\n",
              "      gap: 12px;\n",
              "    }\n",
              "\n",
              "    .colab-df-convert {\n",
              "      background-color: #E8F0FE;\n",
              "      border: none;\n",
              "      border-radius: 50%;\n",
              "      cursor: pointer;\n",
              "      display: none;\n",
              "      fill: #1967D2;\n",
              "      height: 32px;\n",
              "      padding: 0 0 0 0;\n",
              "      width: 32px;\n",
              "    }\n",
              "\n",
              "    .colab-df-convert:hover {\n",
              "      background-color: #E2EBFA;\n",
              "      box-shadow: 0px 1px 2px rgba(60, 64, 67, 0.3), 0px 1px 3px 1px rgba(60, 64, 67, 0.15);\n",
              "      fill: #174EA6;\n",
              "    }\n",
              "\n",
              "    .colab-df-buttons div {\n",
              "      margin-bottom: 4px;\n",
              "    }\n",
              "\n",
              "    [theme=dark] .colab-df-convert {\n",
              "      background-color: #3B4455;\n",
              "      fill: #D2E3FC;\n",
              "    }\n",
              "\n",
              "    [theme=dark] .colab-df-convert:hover {\n",
              "      background-color: #434B5C;\n",
              "      box-shadow: 0px 1px 3px 1px rgba(0, 0, 0, 0.15);\n",
              "      filter: drop-shadow(0px 1px 2px rgba(0, 0, 0, 0.3));\n",
              "      fill: #FFFFFF;\n",
              "    }\n",
              "  </style>\n",
              "\n",
              "    <script>\n",
              "      const buttonEl =\n",
              "        document.querySelector('#df-ec7aa51d-6830-40cc-9257-164e09791ebf button.colab-df-convert');\n",
              "      buttonEl.style.display =\n",
              "        google.colab.kernel.accessAllowed ? 'block' : 'none';\n",
              "\n",
              "      async function convertToInteractive(key) {\n",
              "        const element = document.querySelector('#df-ec7aa51d-6830-40cc-9257-164e09791ebf');\n",
              "        const dataTable =\n",
              "          await google.colab.kernel.invokeFunction('convertToInteractive',\n",
              "                                                    [key], {});\n",
              "        if (!dataTable) return;\n",
              "\n",
              "        const docLinkHtml = 'Like what you see? Visit the ' +\n",
              "          '<a target=\"_blank\" href=https://colab.research.google.com/notebooks/data_table.ipynb>data table notebook</a>'\n",
              "          + ' to learn more about interactive tables.';\n",
              "        element.innerHTML = '';\n",
              "        dataTable['output_type'] = 'display_data';\n",
              "        await google.colab.output.renderOutput(dataTable, element);\n",
              "        const docLink = document.createElement('div');\n",
              "        docLink.innerHTML = docLinkHtml;\n",
              "        element.appendChild(docLink);\n",
              "      }\n",
              "    </script>\n",
              "  </div>\n",
              "\n",
              "\n",
              "    <div id=\"df-d81557dc-2690-46d4-8699-4f715378c56f\">\n",
              "      <button class=\"colab-df-quickchart\" onclick=\"quickchart('df-d81557dc-2690-46d4-8699-4f715378c56f')\"\n",
              "                title=\"Suggest charts\"\n",
              "                style=\"display:none;\">\n",
              "\n",
              "<svg xmlns=\"http://www.w3.org/2000/svg\" height=\"24px\"viewBox=\"0 0 24 24\"\n",
              "     width=\"24px\">\n",
              "    <g>\n",
              "        <path d=\"M19 3H5c-1.1 0-2 .9-2 2v14c0 1.1.9 2 2 2h14c1.1 0 2-.9 2-2V5c0-1.1-.9-2-2-2zM9 17H7v-7h2v7zm4 0h-2V7h2v10zm4 0h-2v-4h2v4z\"/>\n",
              "    </g>\n",
              "</svg>\n",
              "      </button>\n",
              "\n",
              "<style>\n",
              "  .colab-df-quickchart {\n",
              "      --bg-color: #E8F0FE;\n",
              "      --fill-color: #1967D2;\n",
              "      --hover-bg-color: #E2EBFA;\n",
              "      --hover-fill-color: #174EA6;\n",
              "      --disabled-fill-color: #AAA;\n",
              "      --disabled-bg-color: #DDD;\n",
              "  }\n",
              "\n",
              "  [theme=dark] .colab-df-quickchart {\n",
              "      --bg-color: #3B4455;\n",
              "      --fill-color: #D2E3FC;\n",
              "      --hover-bg-color: #434B5C;\n",
              "      --hover-fill-color: #FFFFFF;\n",
              "      --disabled-bg-color: #3B4455;\n",
              "      --disabled-fill-color: #666;\n",
              "  }\n",
              "\n",
              "  .colab-df-quickchart {\n",
              "    background-color: var(--bg-color);\n",
              "    border: none;\n",
              "    border-radius: 50%;\n",
              "    cursor: pointer;\n",
              "    display: none;\n",
              "    fill: var(--fill-color);\n",
              "    height: 32px;\n",
              "    padding: 0;\n",
              "    width: 32px;\n",
              "  }\n",
              "\n",
              "  .colab-df-quickchart:hover {\n",
              "    background-color: var(--hover-bg-color);\n",
              "    box-shadow: 0 1px 2px rgba(60, 64, 67, 0.3), 0 1px 3px 1px rgba(60, 64, 67, 0.15);\n",
              "    fill: var(--button-hover-fill-color);\n",
              "  }\n",
              "\n",
              "  .colab-df-quickchart-complete:disabled,\n",
              "  .colab-df-quickchart-complete:disabled:hover {\n",
              "    background-color: var(--disabled-bg-color);\n",
              "    fill: var(--disabled-fill-color);\n",
              "    box-shadow: none;\n",
              "  }\n",
              "\n",
              "  .colab-df-spinner {\n",
              "    border: 2px solid var(--fill-color);\n",
              "    border-color: transparent;\n",
              "    border-bottom-color: var(--fill-color);\n",
              "    animation:\n",
              "      spin 1s steps(1) infinite;\n",
              "  }\n",
              "\n",
              "  @keyframes spin {\n",
              "    0% {\n",
              "      border-color: transparent;\n",
              "      border-bottom-color: var(--fill-color);\n",
              "      border-left-color: var(--fill-color);\n",
              "    }\n",
              "    20% {\n",
              "      border-color: transparent;\n",
              "      border-left-color: var(--fill-color);\n",
              "      border-top-color: var(--fill-color);\n",
              "    }\n",
              "    30% {\n",
              "      border-color: transparent;\n",
              "      border-left-color: var(--fill-color);\n",
              "      border-top-color: var(--fill-color);\n",
              "      border-right-color: var(--fill-color);\n",
              "    }\n",
              "    40% {\n",
              "      border-color: transparent;\n",
              "      border-right-color: var(--fill-color);\n",
              "      border-top-color: var(--fill-color);\n",
              "    }\n",
              "    60% {\n",
              "      border-color: transparent;\n",
              "      border-right-color: var(--fill-color);\n",
              "    }\n",
              "    80% {\n",
              "      border-color: transparent;\n",
              "      border-right-color: var(--fill-color);\n",
              "      border-bottom-color: var(--fill-color);\n",
              "    }\n",
              "    90% {\n",
              "      border-color: transparent;\n",
              "      border-bottom-color: var(--fill-color);\n",
              "    }\n",
              "  }\n",
              "</style>\n",
              "\n",
              "      <script>\n",
              "        async function quickchart(key) {\n",
              "          const quickchartButtonEl =\n",
              "            document.querySelector('#' + key + ' button');\n",
              "          quickchartButtonEl.disabled = true;  // To prevent multiple clicks.\n",
              "          quickchartButtonEl.classList.add('colab-df-spinner');\n",
              "          try {\n",
              "            const charts = await google.colab.kernel.invokeFunction(\n",
              "                'suggestCharts', [key], {});\n",
              "          } catch (error) {\n",
              "            console.error('Error during call to suggestCharts:', error);\n",
              "          }\n",
              "          quickchartButtonEl.classList.remove('colab-df-spinner');\n",
              "          quickchartButtonEl.classList.add('colab-df-quickchart-complete');\n",
              "        }\n",
              "        (() => {\n",
              "          let quickchartButtonEl =\n",
              "            document.querySelector('#df-d81557dc-2690-46d4-8699-4f715378c56f button');\n",
              "          quickchartButtonEl.style.display =\n",
              "            google.colab.kernel.accessAllowed ? 'block' : 'none';\n",
              "        })();\n",
              "      </script>\n",
              "    </div>\n",
              "\n",
              "    </div>\n",
              "  </div>\n"
            ],
            "application/vnd.google.colaboratory.intrinsic+json": {
              "type": "dataframe",
              "variable_name": "datos",
              "summary": "{\n  \"name\": \"datos\",\n  \"rows\": 76840,\n  \"fields\": [\n    {\n      \"column\": \"Ciudad\",\n      \"properties\": {\n        \"dtype\": \"number\",\n        \"std\": 11,\n        \"min\": 11,\n        \"max\": 53,\n        \"num_unique_values\": 27,\n        \"samples\": [\n          22,\n          27,\n          23\n        ],\n        \"semantic_type\": \"\",\n        \"description\": \"\"\n      }\n    },\n    {\n      \"column\": \"Sexo\",\n      \"properties\": {\n        \"dtype\": \"number\",\n        \"std\": 0,\n        \"min\": 0,\n        \"max\": 1,\n        \"num_unique_values\": 2,\n        \"samples\": [\n          1,\n          0\n        ],\n        \"semantic_type\": \"\",\n        \"description\": \"\"\n      }\n    },\n    {\n      \"column\": \"Edad\",\n      \"properties\": {\n        \"dtype\": \"number\",\n        \"std\": 12,\n        \"min\": 13,\n        \"max\": 99,\n        \"num_unique_values\": 84,\n        \"samples\": [\n          88,\n          23\n        ],\n        \"semantic_type\": \"\",\n        \"description\": \"\"\n      }\n    },\n    {\n      \"column\": \"Color\",\n      \"properties\": {\n        \"dtype\": \"number\",\n        \"std\": 2,\n        \"min\": 0,\n        \"max\": 8,\n        \"num_unique_values\": 5,\n        \"samples\": [\n          2,\n          0\n        ],\n        \"semantic_type\": \"\",\n        \"description\": \"\"\n      }\n    },\n    {\n      \"column\": \"A\\u00f1os de Estudio\",\n      \"properties\": {\n        \"dtype\": \"number\",\n        \"std\": 4,\n        \"min\": 1,\n        \"max\": 17,\n        \"num_unique_values\": 17,\n        \"samples\": [\n          12,\n          15\n        ],\n        \"semantic_type\": \"\",\n        \"description\": \"\"\n      }\n    },\n    {\n      \"column\": \"Ingreso\",\n      \"properties\": {\n        \"dtype\": \"number\",\n        \"std\": 3323,\n        \"min\": 0,\n        \"max\": 200000,\n        \"num_unique_values\": 1606,\n        \"samples\": [\n          3279,\n          2456\n        ],\n        \"semantic_type\": \"\",\n        \"description\": \"\"\n      }\n    },\n    {\n      \"column\": \"Altura\",\n      \"properties\": {\n        \"dtype\": \"number\",\n        \"std\": 0.07971743006825309,\n        \"min\": 1.339244614,\n        \"max\": 2.028496765,\n        \"num_unique_values\": 76831,\n        \"samples\": [\n          1.616531581,\n          1.799777606\n        ],\n        \"semantic_type\": \"\",\n        \"description\": \"\"\n      }\n    }\n  ]\n}"
            }
          },
          "metadata": {},
          "execution_count": 4
        }
      ]
    },
    {
      "cell_type": "markdown",
      "metadata": {
        "id": "1ldnLTqK5bl_"
      },
      "source": [
        "# <font color='green'>Problema A</font>"
      ]
    },
    {
      "cell_type": "markdown",
      "metadata": {
        "id": "9eJMw-Uq5bmA"
      },
      "source": [
        "Al evaluar nuestro conjunto de datos, es posible verificar que la **proporción de hombres** como jefes de hogar es casi del **70%**. Necesitamos **seleccionar al azar grupos de 10 individuos** para verificar las diferencias entre las ganancias en cada grupo. ¿Cuál es la **probabilidad de seleccionar un grupo que presente la misma proporción de la población**, es decir, seleccionar un grupo que esté **compuesto por 7 hombres y 3 mujeres**?\n",
        "\n",
        "#### <font color='blue'>Como tarea adicional, verifique la proporción real de hombres y mujeres en nuestro conjunto de datos (vimos cómo hacer esto en nuestro primer curso de estadística).</font>\n",
        "\n",
        "#### <font color='red'>Compruebe qué tipo de distribución de probabilidad se ajusta a este experimento.</font>"
      ]
    },
    {
      "cell_type": "markdown",
      "metadata": {
        "id": "VoF00gKM5bmB"
      },
      "source": [
        "### Solución"
      ]
    },
    {
      "cell_type": "markdown",
      "metadata": {
        "id": "ogr7CiW_8iL-"
      },
      "source": [
        "## Total de eventos que se desea obtener éxito (k)"
      ]
    },
    {
      "cell_type": "code",
      "metadata": {
        "id": "wkJ0oeqV5bmB"
      },
      "source": [
        "k = 7"
      ],
      "execution_count": 5,
      "outputs": []
    },
    {
      "cell_type": "markdown",
      "metadata": {
        "id": "USajr5fA8krL"
      },
      "source": [
        "## Total de ensayos"
      ]
    },
    {
      "cell_type": "code",
      "metadata": {
        "id": "xGJ-k-ol5bmD"
      },
      "source": [
        "n = 10"
      ],
      "execution_count": 6,
      "outputs": []
    },
    {
      "cell_type": "markdown",
      "metadata": {
        "id": "LzhoYxZj8nYb"
      },
      "source": [
        "## Probabilidad de éxito"
      ]
    },
    {
      "cell_type": "code",
      "metadata": {
        "id": "LA0ONe0x5bmD"
      },
      "source": [
        "p = 0.70"
      ],
      "execution_count": 7,
      "outputs": []
    },
    {
      "cell_type": "markdown",
      "metadata": {
        "id": "D2Ulzr_C8oe0"
      },
      "source": [
        "## Solución"
      ]
    },
    {
      "cell_type": "code",
      "metadata": {
        "colab": {
          "base_uri": "https://localhost:8080/"
        },
        "id": "KnDxQDwf5bmE",
        "outputId": "c426ec78-7cb8-4c6b-cb37-6f871d5eff5a"
      },
      "source": [
        "probabilidad = binom.pmf(k, n, p)\n",
        "print(f'{probabilidad:.8f}')"
      ],
      "execution_count": 8,
      "outputs": [
        {
          "output_type": "stream",
          "name": "stdout",
          "text": [
            "0.26682793\n"
          ]
        }
      ]
    },
    {
      "cell_type": "markdown",
      "metadata": {
        "id": "jWAVajbA5bmF"
      },
      "source": [
        "# <font color='green'>Problema B</font>"
      ]
    },
    {
      "cell_type": "markdown",
      "metadata": {
        "id": "jUgWC4SL5bmF"
      },
      "source": [
        "Aún en la pregunta anterior, **¿cuántos grupos de 10 individuos** tendríamos que seleccionar, al azar, para obtener **100 grupos formados por 7 hombres y 3 mujeres**?\n",
        "\n",
        "#### <font color='red'>Recuerde la forma de promediar una distribución binomial</font>"
      ]
    },
    {
      "cell_type": "markdown",
      "metadata": {
        "id": "Yrlo-xM95bmF"
      },
      "source": [
        "### Solución"
      ]
    },
    {
      "cell_type": "markdown",
      "metadata": {
        "id": "-i4MbQez5bmH"
      },
      "source": [
        "### Media de la distribución binomial\n",
        "\n",
        "# $$\\mu=nXp$$"
      ]
    },
    {
      "cell_type": "code",
      "metadata": {
        "colab": {
          "base_uri": "https://localhost:8080/"
        },
        "id": "1-ic5VnL5bmH",
        "outputId": "1789dfab-85c5-4031-ca49-3da6e88abfe9"
      },
      "source": [
        "# media = n * p\n",
        "# n = media / p\n",
        "\n",
        "n = 100 / probabilidad\n",
        "n = int(n.round())\n",
        "n"
      ],
      "execution_count": 9,
      "outputs": [
        {
          "output_type": "execute_result",
          "data": {
            "text/plain": [
              "375"
            ]
          },
          "metadata": {},
          "execution_count": 9
        }
      ]
    },
    {
      "cell_type": "markdown",
      "metadata": {
        "id": "SSzr48r-5bmJ"
      },
      "source": [
        "# <font color='green'>Problema C</font>"
      ]
    },
    {
      "cell_type": "markdown",
      "metadata": {
        "id": "PgDFt-K25bmJ"
      },
      "source": [
        "Un cliente nos encargó la realización de un estudio para evaluar **los ingresos de los jefes de hogar en Brasil**. Para eso, necesitamos realizar una nueva recolección de datos, es decir, una nueva investigación de campo. Después de reunirse con el cliente, fue posible enumerar el siguiente conjunto de informaciones:\n",
        "\n",
        "> A. El resultado de la búsqueda debe estar listo en **2 meses**;\n",
        "\n",
        "> B. Solo tendremos **R$\\$$ 150000,00** de fondos para realizar la investigación de campo; y\n",
        "    \n",
        "> C. Sería interesante tener un **margen de error que no supere el 10% en relación a la media estimada**.\n",
        "\n",
        "En nuestra experiencia con estudios de este tipo, sabemos que el **costo promedio por entrevistado ronda los R$\\$$ 100,00**. Con este conjunto de hechos, evalúe y obtenga el siguiente conjunto de información para transmitir al cliente:\n",
        "\n",
        "> 1. Para obtener una estimación de los parámetros de la población (ingresos de los jefes de hogar en Brasil), realice un muestreo aleatorio simple en nuestro conjunto de datos. Esta muestra debe contener 200 elementos (use random_state = 101 para asegurarse de que se pueda volver a realizar el mismo experimento). Obtenga la media y la desviación estándar de esta muestra.\n",
        "\n",
        "> 2. Para el **margen de error** especificado por el cliente, obtenga los **tamaños de muestra** necesarios para garantizar **niveles de confianza del 90%, 95% y 99%**.\n",
        "    \n",
        "> 3. Obtenga el **costo de la encuesta** para los tres niveles de confianza.\n",
        "    \n",
        "> 4. Para obtener el nivel más alto de confianza viable (dentro del presupuesto disponible), obtenga un **intervalo de confianza para la media de la población**.\n",
        "    \n",
        "> 5. Suponiendo el **nivel de confianza elegido en el inciso anterior**, ¿qué **margen de error** se puede considerar utilizando todos los recursos proporcionados por el cliente?\n",
        "    \n",
        "> 6. Suponiendo un **nivel de confianza del 95%**, **¿cuánto costaría la encuesta al cliente** si se considerara un **margen de error de solo el 5%** en relación con el promedio estimado?\n"
      ]
    },
    {
      "cell_type": "markdown",
      "metadata": {
        "id": "RT-FPHm85bmK"
      },
      "source": [
        "# <font color='blue'>Solución del punto 1</font>"
      ]
    },
    {
      "cell_type": "markdown",
      "metadata": {
        "id": "wxw7HmVp5bmL"
      },
      "source": [
        "### Selección de una muestra aleatoria simple\n",
        "\n",
        "#### <font color='red'>Recuerde usar *random_state = 101*</font>"
      ]
    },
    {
      "cell_type": "code",
      "metadata": {
        "id": "oHD_J1lt5bmL"
      },
      "source": [
        "dataset = datos.Ingreso.sample(n = 200, random_state = 101)"
      ],
      "execution_count": 10,
      "outputs": []
    },
    {
      "cell_type": "code",
      "metadata": {
        "colab": {
          "base_uri": "https://localhost:8080/"
        },
        "id": "w688AkAq5bmM",
        "outputId": "982ed633-1d93-4c1a-c853-3ef731004cf1"
      },
      "source": [
        "dataset.mean()"
      ],
      "execution_count": 11,
      "outputs": [
        {
          "output_type": "execute_result",
          "data": {
            "text/plain": [
              "np.float64(1964.205)"
            ]
          },
          "metadata": {},
          "execution_count": 11
        }
      ]
    },
    {
      "cell_type": "code",
      "metadata": {
        "colab": {
          "base_uri": "https://localhost:8080/"
        },
        "id": "T_pGKrq05bmN",
        "outputId": "e13705fe-592c-4945-f124-f65296228a3c"
      },
      "source": [
        "dataset.std()"
      ],
      "execution_count": 12,
      "outputs": [
        {
          "output_type": "execute_result",
          "data": {
            "text/plain": [
              "3139.8855167452157"
            ]
          },
          "metadata": {},
          "execution_count": 12
        }
      ]
    },
    {
      "cell_type": "markdown",
      "metadata": {
        "id": "DCLmPZRP5bmO"
      },
      "source": [
        "### Datos del problema"
      ]
    },
    {
      "cell_type": "code",
      "metadata": {
        "id": "_rbgt1Ol5bmP"
      },
      "source": [
        "media_muestra = dataset.mean()\n",
        "desviacion_estandar_muestra = dataset.std()\n",
        "recursos = 150000\n",
        "costo_entrevista = 100"
      ],
      "execution_count": 13,
      "outputs": []
    },
    {
      "cell_type": "markdown",
      "metadata": {
        "id": "fMJTUr9h5bmQ"
      },
      "source": [
        "# <font color='blue'>Solución del punto 2</font>"
      ]
    },
    {
      "cell_type": "markdown",
      "metadata": {
        "id": "_cE33Sk65bmQ"
      },
      "source": [
        "### Obtenga el margen de error\n",
        "\n",
        "#### <font color='red'>Recuerde que el margen de error debe estar en la misma unidad que la variable en estudio (R$)</font>"
      ]
    },
    {
      "cell_type": "code",
      "metadata": {
        "colab": {
          "base_uri": "https://localhost:8080/"
        },
        "id": "ABRKgHDA5bmQ",
        "outputId": "e0dc28eb-8216-4676-86b1-a89cdabc8835"
      },
      "source": [
        "e = 0.10 * media_muestra\n",
        "print(f'El margen de error es de R$ {e:.2f} aproximadamente')"
      ],
      "execution_count": 14,
      "outputs": [
        {
          "output_type": "stream",
          "name": "stdout",
          "text": [
            "El margen de error es de R$ 196.42 aproximadamente\n"
          ]
        }
      ]
    },
    {
      "cell_type": "markdown",
      "metadata": {
        "id": "kJTzpSxr5bmR"
      },
      "source": [
        "### Tamaño de la muestra ($1 - \\alpha = 90\\%$)"
      ]
    },
    {
      "cell_type": "code",
      "metadata": {
        "colab": {
          "base_uri": "https://localhost:8080/"
        },
        "id": "bempjGoY5bmR",
        "outputId": "9587310a-2c71-43c6-c83c-0ee776f8ca3f"
      },
      "source": [
        "0.5 + (0.9 / 2)"
      ],
      "execution_count": 15,
      "outputs": [
        {
          "output_type": "execute_result",
          "data": {
            "text/plain": [
              "0.95"
            ]
          },
          "metadata": {},
          "execution_count": 15
        }
      ]
    },
    {
      "cell_type": "code",
      "metadata": {
        "colab": {
          "base_uri": "https://localhost:8080/"
        },
        "id": "6MqFd9aq5bmT",
        "outputId": "b3b4d6ca-16ad-434f-950a-1c615d89ec8e"
      },
      "source": [
        "z = norm.ppf(.95)\n",
        "n_confianza_90 = (z * (desviacion_estandar_muestra / e)) ** 2\n",
        "n_confianza_90 = int(n_confianza_90.round())\n",
        "print(f'Para un nivel de confianza del 90% debemos seleccionar una muestra de {n_confianza_90} elementos.')"
      ],
      "execution_count": 16,
      "outputs": [
        {
          "output_type": "stream",
          "name": "stdout",
          "text": [
            "Para un nivel de confianza del 90% debemos seleccionar una muestra de 691 elementos.\n"
          ]
        }
      ]
    },
    {
      "cell_type": "markdown",
      "metadata": {
        "id": "teHM6G0Y5bmU"
      },
      "source": [
        "### Tamaño de la muestra ($1 - \\alpha = 95\\%$)"
      ]
    },
    {
      "cell_type": "code",
      "metadata": {
        "colab": {
          "base_uri": "https://localhost:8080/"
        },
        "id": "mzhIop3o5bmU",
        "outputId": "3fa98ffd-1c6f-4a62-cd2b-3e20e354a965"
      },
      "source": [
        "0.5 + (0.95 / 2)"
      ],
      "execution_count": 17,
      "outputs": [
        {
          "output_type": "execute_result",
          "data": {
            "text/plain": [
              "0.975"
            ]
          },
          "metadata": {},
          "execution_count": 17
        }
      ]
    },
    {
      "cell_type": "code",
      "metadata": {
        "colab": {
          "base_uri": "https://localhost:8080/"
        },
        "id": "0wxAy4Ik5bmV",
        "outputId": "378f3418-40e4-44c4-9578-8a9cd2b92478"
      },
      "source": [
        "z = norm.ppf(.975)\n",
        "n_confianza_95 = (z * (desviacion_estandar_muestra / e)) ** 2\n",
        "n_confianza_95 = int(n_confianza_95.round())\n",
        "print(f'Para un nivel de confianza del 95% debemos seleccionar una muestra de {n_confianza_95} elementos.')"
      ],
      "execution_count": 18,
      "outputs": [
        {
          "output_type": "stream",
          "name": "stdout",
          "text": [
            "Para un nivel de confianza del 95% debemos seleccionar una muestra de 982 elementos.\n"
          ]
        }
      ]
    },
    {
      "cell_type": "markdown",
      "metadata": {
        "id": "TDqvtpqe5bmV"
      },
      "source": [
        "### Tamaño de la muestra ($1 - \\alpha = 99\\%$)"
      ]
    },
    {
      "cell_type": "code",
      "metadata": {
        "colab": {
          "base_uri": "https://localhost:8080/"
        },
        "id": "93qSZ6Q85bmW",
        "outputId": "8861aaa4-a116-4045-988a-4855ea69cfd6"
      },
      "source": [
        "0.5 + (0.99 / 2)"
      ],
      "execution_count": 19,
      "outputs": [
        {
          "output_type": "execute_result",
          "data": {
            "text/plain": [
              "0.995"
            ]
          },
          "metadata": {},
          "execution_count": 19
        }
      ]
    },
    {
      "cell_type": "code",
      "metadata": {
        "colab": {
          "base_uri": "https://localhost:8080/"
        },
        "id": "5JLh7OeX5bmX",
        "outputId": "899d1777-7079-4556-a133-869f243ac1aa"
      },
      "source": [
        "z = norm.ppf(.995)\n",
        "n_confianza_99 = (z * (desviacion_estandar_muestra / e)) ** 2\n",
        "n_confianza_99 = int(n_confianza_99.round())\n",
        "print(f'Para un nivel de confianza del 99% debemos seleccionar una muestra de {n_confianza_99} elementos.')"
      ],
      "execution_count": 20,
      "outputs": [
        {
          "output_type": "stream",
          "name": "stdout",
          "text": [
            "Para un nivel de confianza del 99% debemos seleccionar una muestra de 1695 elementos.\n"
          ]
        }
      ]
    },
    {
      "cell_type": "markdown",
      "metadata": {
        "id": "L4cZg8_l5bmX"
      },
      "source": [
        "# <font color='blue'>Solución del punto 3</font>"
      ]
    },
    {
      "cell_type": "markdown",
      "metadata": {
        "id": "xfKloU_q5bmZ"
      },
      "source": [
        "### Costo de investigación para el nivel de confianza de 90%"
      ]
    },
    {
      "cell_type": "code",
      "metadata": {
        "colab": {
          "base_uri": "https://localhost:8080/"
        },
        "id": "sirSidd25bmZ",
        "outputId": "b46d7340-a78f-4eeb-b774-744e82d123ff"
      },
      "source": [
        "costo_confianza_90 = n_confianza_90 * costo_entrevista\n",
        "print(f'Para un nivel de confianza del 90% el costo de la investigación sería R$ {costo_confianza_90:.2f}')"
      ],
      "execution_count": 21,
      "outputs": [
        {
          "output_type": "stream",
          "name": "stdout",
          "text": [
            "Para un nivel de confianza del 90% el costo de la investigación sería R$ 69100.00\n"
          ]
        }
      ]
    },
    {
      "cell_type": "markdown",
      "metadata": {
        "id": "cLKFxJHM5bma"
      },
      "source": [
        "### Costo de investigación para el nivel de confianza de 95%"
      ]
    },
    {
      "cell_type": "code",
      "metadata": {
        "colab": {
          "base_uri": "https://localhost:8080/"
        },
        "id": "7QAMlwnG5bmd",
        "outputId": "3352eae3-d6d2-4bd9-86e3-d0d51f33d82f"
      },
      "source": [
        "costo_confianza_95 = n_confianza_95 * costo_entrevista\n",
        "print(f'Para un nivel de confianza del 95% el costo de la investigación sería R$ {costo_confianza_95:.2f}')"
      ],
      "execution_count": 22,
      "outputs": [
        {
          "output_type": "stream",
          "name": "stdout",
          "text": [
            "Para un nivel de confianza del 95% el costo de la investigación sería R$ 98200.00\n"
          ]
        }
      ]
    },
    {
      "cell_type": "markdown",
      "metadata": {
        "id": "1SyQNzZs5bme"
      },
      "source": [
        "### Costo de investigación para el nivel de confianza de 99%"
      ]
    },
    {
      "cell_type": "code",
      "metadata": {
        "colab": {
          "base_uri": "https://localhost:8080/"
        },
        "id": "obfWrq205bmf",
        "outputId": "ab04f46a-790d-4632-fc3c-c3f21cd8d0f1"
      },
      "source": [
        "costo_confianza_99 = n_confianza_99 * costo_entrevista\n",
        "print(f'Para un nivel de confianza del 99% el costo de la investigación sería R$ {costo_confianza_99:.2f}')"
      ],
      "execution_count": 23,
      "outputs": [
        {
          "output_type": "stream",
          "name": "stdout",
          "text": [
            "Para un nivel de confianza del 99% el costo de la investigación sería R$ 169500.00\n"
          ]
        }
      ]
    },
    {
      "cell_type": "markdown",
      "metadata": {
        "id": "ZnfKqGNj5bmg"
      },
      "source": [
        "# <font color='blue'>Solución del punto 4</font>"
      ]
    },
    {
      "cell_type": "code",
      "metadata": {
        "colab": {
          "base_uri": "https://localhost:8080/"
        },
        "id": "t6W21JB75bmi",
        "outputId": "a48af989-6ca7-4b5b-dbc9-0561f31107d0"
      },
      "source": [
        "intervalo = norm.interval(confidence=0.95, loc=media_muestra, scale=desviacion_estandar_muestra / np.sqrt(n_confianza_95))\n",
        "intervalo"
      ],
      "execution_count": 25,
      "outputs": [
        {
          "output_type": "execute_result",
          "data": {
            "text/plain": [
              "(np.float64(1767.820973280509), np.float64(2160.589026719491))"
            ]
          },
          "metadata": {},
          "execution_count": 25
        }
      ]
    },
    {
      "cell_type": "markdown",
      "metadata": {
        "id": "91hjxfVH5bmj"
      },
      "source": [
        "# <font color='blue'>Solución del punto 5</font>"
      ]
    },
    {
      "cell_type": "code",
      "metadata": {
        "colab": {
          "base_uri": "https://localhost:8080/"
        },
        "id": "i708-a3M5bmj",
        "outputId": "1ff58476-5167-40d8-939a-17c76056f2b1"
      },
      "source": [
        "n_confianza_95 = recursos / costo_entrevista\n",
        "n_confianza_95"
      ],
      "execution_count": 26,
      "outputs": [
        {
          "output_type": "execute_result",
          "data": {
            "text/plain": [
              "1500.0"
            ]
          },
          "metadata": {},
          "execution_count": 26
        }
      ]
    },
    {
      "cell_type": "code",
      "metadata": {
        "colab": {
          "base_uri": "https://localhost:8080/"
        },
        "id": "xOBqA8L15bml",
        "outputId": "024aa194-0d2d-4a25-b49a-9495990a742a"
      },
      "source": [
        "z = norm.ppf(.975)\n",
        "e = z * (desviacion_estandar_muestra / np.sqrt(n_confianza_95))\n",
        "e"
      ],
      "execution_count": 27,
      "outputs": [
        {
          "output_type": "execute_result",
          "data": {
            "text/plain": [
              "np.float64(158.89721122673737)"
            ]
          },
          "metadata": {},
          "execution_count": 27
        }
      ]
    },
    {
      "cell_type": "code",
      "metadata": {
        "colab": {
          "base_uri": "https://localhost:8080/"
        },
        "id": "V7c9rOCH5bmn",
        "outputId": "962cbe81-aae6-47f6-ceb5-9602898c2515"
      },
      "source": [
        "e_porcentual = 100 * e / media_muestra\n",
        "print(f'El nuevo margen de error es {e_porcentual:.2f}%')"
      ],
      "execution_count": 28,
      "outputs": [
        {
          "output_type": "stream",
          "name": "stdout",
          "text": [
            "El nuevo margen de error es 8.09%\n"
          ]
        }
      ]
    },
    {
      "cell_type": "markdown",
      "metadata": {
        "id": "OeN8zY675bmo"
      },
      "source": [
        "# <font color='blue'>Solución del punto 6</font>"
      ]
    },
    {
      "cell_type": "code",
      "metadata": {
        "colab": {
          "base_uri": "https://localhost:8080/"
        },
        "id": "36_Vf25S5bmp",
        "outputId": "0617e728-9335-4b8d-a6aa-4b1f6d16780d"
      },
      "source": [
        "e = 0.05 * media_muestra\n",
        "print(f'El margen de error es de R$ {e:.2f} aproximadamente')"
      ],
      "execution_count": 29,
      "outputs": [
        {
          "output_type": "stream",
          "name": "stdout",
          "text": [
            "El margen de error es de R$ 98.21 aproximadamente\n"
          ]
        }
      ]
    },
    {
      "cell_type": "code",
      "metadata": {
        "colab": {
          "base_uri": "https://localhost:8080/"
        },
        "id": "UtvVo1P65bmq",
        "outputId": "d5acbd1a-a4be-4ebe-e7b7-1b2cb1f3fd49"
      },
      "source": [
        "z = norm.ppf(.975)\n",
        "n_confianza_95 = (z * (desviacion_estandar_muestra / e)) ** 2\n",
        "n_confianza_95 = int(n_confianza_95.round())\n",
        "print(f'Para un nivel de confianza del 95% debemos seleccionar una muestra de {n_confianza_95} elementos.')"
      ],
      "execution_count": 30,
      "outputs": [
        {
          "output_type": "stream",
          "name": "stdout",
          "text": [
            "Para un nivel de confianza del 95% debemos seleccionar una muestra de 3927 elementos.\n"
          ]
        }
      ]
    },
    {
      "cell_type": "code",
      "metadata": {
        "colab": {
          "base_uri": "https://localhost:8080/"
        },
        "id": "R9c7vlCr5bmr",
        "outputId": "09fa22c1-686d-40ed-d4d9-a106e1da5524"
      },
      "source": [
        "costo_confianza_95 = n_confianza_95 * costo_entrevista\n",
        "print(f'Para un nivel de confianza del 95% el costo de la investigación sería R$ {costo_confianza_95:.2f}')"
      ],
      "execution_count": 31,
      "outputs": [
        {
          "output_type": "stream",
          "name": "stdout",
          "text": [
            "Para un nivel de confianza del 95% el costo de la investigación sería R$ 392700.00\n"
          ]
        }
      ]
    }
  ]
}